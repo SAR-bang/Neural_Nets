{
  "nbformat": 4,
  "nbformat_minor": 0,
  "metadata": {
    "colab": {
      "name": "mnist data.ipynb",
      "provenance": [],
      "authorship_tag": "ABX9TyMrCOUH6+tiQBa1PoZhszfS",
      "include_colab_link": true
    },
    "kernelspec": {
      "name": "python3",
      "display_name": "Python 3"
    }
  },
  "cells": [
    {
      "cell_type": "markdown",
      "metadata": {
        "id": "view-in-github",
        "colab_type": "text"
      },
      "source": [
        "<a href=\"https://colab.research.google.com/github/SAR-bang/Neural_Nets/blob/master/mnist_data.ipynb\" target=\"_parent\"><img src=\"https://colab.research.google.com/assets/colab-badge.svg\" alt=\"Open In Colab\"/></a>"
      ]
    },
    {
      "cell_type": "code",
      "metadata": {
        "id": "ZSx06Fss74Ft"
      },
      "source": [
        "# digit recognization\r\n",
        "from keras.datasets import mnist"
      ],
      "execution_count": 2,
      "outputs": []
    },
    {
      "cell_type": "code",
      "metadata": {
        "colab": {
          "base_uri": "https://localhost:8080/"
        },
        "id": "NdDnepmv8GeO",
        "outputId": "b13aea5c-d8ce-4af1-b0b9-61c923a230b9"
      },
      "source": [
        "(X_train,y_train),(X_test,y_test) = mnist.load_data()"
      ],
      "execution_count": 3,
      "outputs": [
        {
          "output_type": "stream",
          "text": [
            "Downloading data from https://storage.googleapis.com/tensorflow/tf-keras-datasets/mnist.npz\n",
            "11493376/11490434 [==============================] - 0s 0us/step\n"
          ],
          "name": "stdout"
        }
      ]
    },
    {
      "cell_type": "code",
      "metadata": {
        "colab": {
          "base_uri": "https://localhost:8080/"
        },
        "id": "iUEZQWLr8Re7",
        "outputId": "baef6a4a-d822-4308-aa14-8171621b8c81"
      },
      "source": [
        "print(X_train.shape)"
      ],
      "execution_count": 5,
      "outputs": [
        {
          "output_type": "stream",
          "text": [
            "(60000, 28, 28)\n"
          ],
          "name": "stdout"
        }
      ]
    },
    {
      "cell_type": "code",
      "metadata": {
        "id": "ylAB41qH8XhB"
      },
      "source": [
        "# data size *4 rgba\r\n",
        "from keras.models import Sequential\r\n",
        "from keras.layers import Dense,Dropout,Conv2D,MaxPool2D,Flatten\r\n",
        "from keras.utils import np_utils"
      ],
      "execution_count": 28,
      "outputs": []
    },
    {
      "cell_type": "code",
      "metadata": {
        "id": "psyOJw0t84Zd"
      },
      "source": [
        "# flatteing a image\r\n",
        "X_train = X_train.reshape(X_train.shape[0], 28,28,1)\r\n",
        "X_test = X_test.reshape(X_test.shape[0], 28,28,1)\r\n",
        "X_train = X_train.astype('float32')\r\n",
        "X_test = X_test.astype('float32')\r\n",
        "\r\n",
        "# normalizing the data to help with the training\r\n",
        "X_train /= 255\r\n",
        "X_test /= 255"
      ],
      "execution_count": 27,
      "outputs": []
    },
    {
      "cell_type": "code",
      "metadata": {
        "colab": {
          "base_uri": "https://localhost:8080/"
        },
        "id": "jS3PEZ3q9AYV",
        "outputId": "2b9aa943-29c2-48c1-fcbf-d610add60169"
      },
      "source": [
        "X_train.shape"
      ],
      "execution_count": 29,
      "outputs": [
        {
          "output_type": "execute_result",
          "data": {
            "text/plain": [
              "(60000, 28, 28, 1)"
            ]
          },
          "metadata": {
            "tags": []
          },
          "execution_count": 29
        }
      ]
    },
    {
      "cell_type": "code",
      "metadata": {
        "id": "D1XNAv1W9KAm"
      },
      "source": [
        "n_classes = 10"
      ],
      "execution_count": 30,
      "outputs": []
    },
    {
      "cell_type": "code",
      "metadata": {
        "colab": {
          "base_uri": "https://localhost:8080/"
        },
        "id": "QS5p1bmg9Oe6",
        "outputId": "21f1e416-213c-41b2-a16a-c380b0ccfd7d"
      },
      "source": [
        "print(\"Shape before one-hot encoding: \", y_train.shape)\r\n",
        "Y_train = np_utils.to_categorical(y_train, n_classes)\r\n",
        "Y_test = np_utils.to_categorical(y_test, n_classes)\r\n",
        "print(\"Shape after one-hot encoding: \", Y_train.shape)"
      ],
      "execution_count": 36,
      "outputs": [
        {
          "output_type": "stream",
          "text": [
            "Shape before one-hot encoding:  (60000,)\n",
            "Shape after one-hot encoding:  (60000, 10)\n"
          ],
          "name": "stdout"
        }
      ]
    },
    {
      "cell_type": "code",
      "metadata": {
        "id": "ecyscQJI9Rru"
      },
      "source": [
        "model = Sequential()"
      ],
      "execution_count": 37,
      "outputs": []
    },
    {
      "cell_type": "code",
      "metadata": {
        "id": "knUHVeVH9YNq"
      },
      "source": [
        "model.add(Conv2D(25, kernel_size=(3,3), strides=(1,1), padding='valid', activation='relu', input_shape=(28,28,1)))\r\n",
        "model.add(MaxPool2D(pool_size=(1,1)))\r\n",
        "# flatten output of conv\r\n"
      ],
      "execution_count": 38,
      "outputs": []
    },
    {
      "cell_type": "code",
      "metadata": {
        "id": "VEEyyYBg9iBX"
      },
      "source": [
        "model.add(Flatten())\r\n",
        "# hidden layer\r\n",
        "model.add(Dense(100, activation='relu'))\r\n",
        "# output layer\r\n",
        "model.add(Dense(10, activation='softmax'))"
      ],
      "execution_count": 39,
      "outputs": []
    },
    {
      "cell_type": "code",
      "metadata": {
        "colab": {
          "base_uri": "https://localhost:8080/"
        },
        "id": "XHyaaBjJ9lsi",
        "outputId": "3c7e2b7e-9048-4abb-80ec-56d6d2e70e34"
      },
      "source": [
        "model.summary()"
      ],
      "execution_count": 40,
      "outputs": [
        {
          "output_type": "stream",
          "text": [
            "Model: \"sequential_2\"\n",
            "_________________________________________________________________\n",
            "Layer (type)                 Output Shape              Param #   \n",
            "=================================================================\n",
            "conv2d (Conv2D)              (None, 26, 26, 25)        250       \n",
            "_________________________________________________________________\n",
            "max_pooling2d (MaxPooling2D) (None, 26, 26, 25)        0         \n",
            "_________________________________________________________________\n",
            "flatten (Flatten)            (None, 16900)             0         \n",
            "_________________________________________________________________\n",
            "dense_4 (Dense)              (None, 100)               1690100   \n",
            "_________________________________________________________________\n",
            "dense_5 (Dense)              (None, 10)                1010      \n",
            "=================================================================\n",
            "Total params: 1,691,360\n",
            "Trainable params: 1,691,360\n",
            "Non-trainable params: 0\n",
            "_________________________________________________________________\n"
          ],
          "name": "stdout"
        }
      ]
    },
    {
      "cell_type": "code",
      "metadata": {
        "id": "XHZe1PZ29vD9"
      },
      "source": [
        "model.compile(loss='categorical_crossentropy', metrics=['accuracy'], optimizer='adam')"
      ],
      "execution_count": 41,
      "outputs": []
    },
    {
      "cell_type": "code",
      "metadata": {
        "colab": {
          "base_uri": "https://localhost:8080/"
        },
        "id": "-g-rzBeG9wWv",
        "outputId": "25d5063c-62dd-4562-da93-5f53f70381b0"
      },
      "source": [
        "model.fit(X_train, Y_train, batch_size=128, epochs=10, validation_data=(X_test, Y_test))\r\n"
      ],
      "execution_count": 42,
      "outputs": [
        {
          "output_type": "stream",
          "text": [
            "Epoch 1/10\n",
            "469/469 [==============================] - 37s 77ms/step - loss: 2.3020 - accuracy: 0.1108 - val_loss: 2.3011 - val_accuracy: 0.1135\n",
            "Epoch 2/10\n",
            "469/469 [==============================] - 36s 77ms/step - loss: 2.3013 - accuracy: 0.1116 - val_loss: 2.3010 - val_accuracy: 0.1135\n",
            "Epoch 3/10\n",
            "469/469 [==============================] - 36s 76ms/step - loss: 2.3014 - accuracy: 0.1135 - val_loss: 2.3010 - val_accuracy: 0.1135\n",
            "Epoch 4/10\n",
            "469/469 [==============================] - 36s 77ms/step - loss: 2.3011 - accuracy: 0.1129 - val_loss: 2.3011 - val_accuracy: 0.1135\n",
            "Epoch 5/10\n",
            "469/469 [==============================] - 36s 77ms/step - loss: 2.3008 - accuracy: 0.1154 - val_loss: 2.3012 - val_accuracy: 0.1135\n",
            "Epoch 6/10\n",
            "469/469 [==============================] - 36s 77ms/step - loss: 2.3015 - accuracy: 0.1093 - val_loss: 2.3012 - val_accuracy: 0.1135\n",
            "Epoch 7/10\n",
            "469/469 [==============================] - 36s 77ms/step - loss: 2.3007 - accuracy: 0.1149 - val_loss: 2.3010 - val_accuracy: 0.1135\n",
            "Epoch 8/10\n",
            "469/469 [==============================] - 36s 78ms/step - loss: 2.3015 - accuracy: 0.1108 - val_loss: 2.3011 - val_accuracy: 0.1135\n",
            "Epoch 9/10\n",
            "469/469 [==============================] - 36s 77ms/step - loss: 2.3014 - accuracy: 0.1133 - val_loss: 2.3011 - val_accuracy: 0.1135\n",
            "Epoch 10/10\n",
            "469/469 [==============================] - 36s 78ms/step - loss: 2.3012 - accuracy: 0.1109 - val_loss: 2.3010 - val_accuracy: 0.1135\n"
          ],
          "name": "stdout"
        },
        {
          "output_type": "execute_result",
          "data": {
            "text/plain": [
              "<tensorflow.python.keras.callbacks.History at 0x7f91b4833358>"
            ]
          },
          "metadata": {
            "tags": []
          },
          "execution_count": 42
        }
      ]
    },
    {
      "cell_type": "code",
      "metadata": {
        "colab": {
          "base_uri": "https://localhost:8080/"
        },
        "id": "1F5V9ZmRA5tN",
        "outputId": "dacb7ede-a71d-44c9-e55c-b261fd1b3183"
      },
      "source": [
        "model.predict_classes(X_test)"
      ],
      "execution_count": 46,
      "outputs": [
        {
          "output_type": "stream",
          "text": [
            "/usr/local/lib/python3.6/dist-packages/tensorflow/python/keras/engine/sequential.py:450: UserWarning: `model.predict_classes()` is deprecated and will be removed after 2021-01-01. Please use instead:* `np.argmax(model.predict(x), axis=-1)`,   if your model does multi-class classification   (e.g. if it uses a `softmax` last-layer activation).* `(model.predict(x) > 0.5).astype(\"int32\")`,   if your model does binary classification   (e.g. if it uses a `sigmoid` last-layer activation).\n",
            "  warnings.warn('`model.predict_classes()` is deprecated and '\n"
          ],
          "name": "stderr"
        },
        {
          "output_type": "execute_result",
          "data": {
            "text/plain": [
              "array([1, 1, 1, ..., 1, 1, 1])"
            ]
          },
          "metadata": {
            "tags": []
          },
          "execution_count": 46
        }
      ]
    }
  ]
}