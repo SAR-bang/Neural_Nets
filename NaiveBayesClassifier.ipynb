{
  "nbformat": 4,
  "nbformat_minor": 0,
  "metadata": {
    "colab": {
      "name": "NaiveBayesClassifier.ipynb",
      "provenance": [],
      "authorship_tag": "ABX9TyOldL4l7z7hO+JK3EdEX32+",
      "include_colab_link": true
    },
    "kernelspec": {
      "name": "python3",
      "display_name": "Python 3"
    }
  },
  "cells": [
    {
      "cell_type": "markdown",
      "metadata": {
        "id": "view-in-github",
        "colab_type": "text"
      },
      "source": [
        "<a href=\"https://colab.research.google.com/github/SAR-bang/Neural_Nets/blob/master/NaiveBayesClassifier.ipynb\" target=\"_parent\"><img src=\"https://colab.research.google.com/assets/colab-badge.svg\" alt=\"Open In Colab\"/></a>"
      ]
    },
    {
      "cell_type": "code",
      "metadata": {
        "id": "zHS_czpR-b4g",
        "colab_type": "code",
        "colab": {}
      },
      "source": [
        "from sklearn.datasets import fetch_20newsgroups\n",
        "from sklearn.naive_bayes import MultinomialNB\n",
        "from sklearn.feature_extraction.text import CountVectorizer"
      ],
      "execution_count": 3,
      "outputs": []
    },
    {
      "cell_type": "code",
      "metadata": {
        "id": "4hBF5ghp-m4u",
        "colab_type": "code",
        "colab": {
          "base_uri": "https://localhost:8080/",
          "height": 34
        },
        "outputId": "25e06b53-abb2-4d01-cfc6-273ee21ac97b"
      },
      "source": [
        "\n",
        "train_emails = fetch_20newsgroups(categories=['comp.sys.ibm.pc.hardware','rec.sport.hockey'],subset='train',shuffle=True,random_state=108)\n",
        "print(train_emails.target[5])\n",
        "\n",
        "test_emails = fetch_20newsgroups(categories=['alt.atheism','rec.sport.hockey'],subset='train',shuffle=True,random_state=108)\n",
        "\n"
      ],
      "execution_count": 5,
      "outputs": [
        {
          "output_type": "stream",
          "text": [
            "0\n"
          ],
          "name": "stdout"
        }
      ]
    },
    {
      "cell_type": "code",
      "metadata": {
        "id": "Vlohs9sD-q4A",
        "colab_type": "code",
        "colab": {}
      },
      "source": [
        "counter = CountVectorizer()\n",
        "counter.fit(test_emails.data+train_emails.data)\n",
        "\n",
        "train_counts = counter.transform(train_emails.data)\n",
        "test_counts =counter.transform(test_emails.data)\n"
      ],
      "execution_count": 6,
      "outputs": []
    },
    {
      "cell_type": "code",
      "metadata": {
        "id": "QP3enYWa-u3c",
        "colab_type": "code",
        "colab": {
          "base_uri": "https://localhost:8080/",
          "height": 34
        },
        "outputId": "9dadcaad-8899-4079-f5f5-493dce8560cc"
      },
      "source": [
        "classifier = MultinomialNB()\n",
        "classifier.fit(train_counts,train_emails.target)\n",
        "\n",
        "print(classifier.score(test_counts,test_emails.target))"
      ],
      "execution_count": 7,
      "outputs": [
        {
          "output_type": "stream",
          "text": [
            "0.9185185185185185\n"
          ],
          "name": "stdout"
        }
      ]
    }
  ]
}