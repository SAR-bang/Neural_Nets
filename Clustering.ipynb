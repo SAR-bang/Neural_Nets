{
  "nbformat": 4,
  "nbformat_minor": 0,
  "metadata": {
    "colab": {
      "name": "Clustering.ipynb",
      "provenance": [],
      "authorship_tag": "ABX9TyPVap2zOBeouji+jeEY84+0",
      "include_colab_link": true
    },
    "kernelspec": {
      "name": "python3",
      "display_name": "Python 3"
    }
  },
  "cells": [
    {
      "cell_type": "markdown",
      "metadata": {
        "id": "view-in-github",
        "colab_type": "text"
      },
      "source": [
        "<a href=\"https://colab.research.google.com/github/SAR-bang/Neural_Nets/blob/master/Clustering.ipynb\" target=\"_parent\"><img src=\"https://colab.research.google.com/assets/colab-badge.svg\" alt=\"Open In Colab\"/></a>"
      ]
    },
    {
      "cell_type": "code",
      "metadata": {
        "id": "5pKnSmxwj0eY",
        "colab_type": "code",
        "colab": {}
      },
      "source": [
        "import matplotlib.pyplot as plt\n",
        "import numpy as np\n",
        "from sklearn import datasets\n",
        "from copy import deepcopy\n",
        "\n",
        "# importing the required modules\n"
      ],
      "execution_count": 20,
      "outputs": []
    },
    {
      "cell_type": "code",
      "metadata": {
        "id": "PfzthRTckS84",
        "colab_type": "code",
        "colab": {}
      },
      "source": [
        "# sklearn is made for practice so we are provided with methods such as load_iris(), .target, .data etc.\n",
        "iris = datasets.load_iris()\n",
        "\n",
        "samples = iris.data\n",
        "\n",
        "x = samples[:,0] \n",
        "# getting only column 0\n",
        "y = samples[:,1]\n",
        "# getting only column 1\n",
        "\n",
        "sepal_length_width = np.array(list(zip(x, y)))\n",
        "# print(sepal_length_width) \n",
        "# zip  adds two lists/ data togethers as a set/list"
      ],
      "execution_count": 22,
      "outputs": []
    },
    {
      "cell_type": "code",
      "metadata": {
        "id": "tiUt2aoVkjWV",
        "colab_type": "code",
        "colab": {}
      },
      "source": [
        "\n",
        "# Step 1: Place K random centroids\n",
        "\n",
        "k = 3 # since we have 3 clusters or classes k /clusters\n",
        "\n",
        "centroids_x = np.random.uniform(min(x), max(x), size=k)\n",
        "centroids_y = np.random.uniform(min(y), max(y), size=k)\n",
        "\n",
        "centroids = np.array(list(zip(centroids_x, centroids_y)))"
      ],
      "execution_count": 23,
      "outputs": []
    },
    {
      "cell_type": "code",
      "metadata": {
        "id": "uRfvb-zjkram",
        "colab_type": "code",
        "colab": {}
      },
      "source": [
        "# Euclidean formula\n",
        "def distance(a, b):\n",
        "  one = (a[0] - b[0]) ** 2\n",
        "  two = (a[1] - b[1]) ** 2\n",
        "  distance = (one + two) ** 0.5\n",
        "  return distance\n"
      ],
      "execution_count": 25,
      "outputs": []
    },
    {
      "cell_type": "code",
      "metadata": {
        "id": "9R-QNo3Akvp-",
        "colab_type": "code",
        "colab": {}
      },
      "source": [
        "\n",
        "# To store the value of centroids when it updates\n",
        "centroids_old = np.zeros(centroids.shape)\n",
        "\n",
        "# Cluster labeles (either 0, 1, or 2)\n",
        "labels = np.zeros(len(samples))\n",
        "\n",
        "distances = np.zeros(3)\n",
        "\n",
        "# Initialize error:\n",
        "\n",
        "\n",
        "\n",
        "# Repeat Steps 2 and 3 until convergence:\n",
        "error = np.zeros(3)\n"
      ],
      "execution_count": 26,
      "outputs": []
    },
    {
      "cell_type": "code",
      "metadata": {
        "id": "_xl1oYgbk3hk",
        "colab_type": "code",
        "colab": {
          "base_uri": "https://localhost:8080/",
          "height": 279
        },
        "outputId": "208c88bf-44bd-4011-b9ce-308edd85b47a"
      },
      "source": [
        "\n",
        "  # Step 2: Assign samples to nearest centroi d\n",
        "while error.all() !=0:\n",
        "  \n",
        "  for i in range(len(samples)):\n",
        "    distances[0] = distance(sepal_length_width[i],  centroids[0])\n",
        "    distances[1] = distance(sepal_length_width[i],  centroids[1])\n",
        "    distances[2] = distance(sepal_length_width[i],  centroids[2])\n",
        "    cluster = np.argmin(distances)\n",
        "    labels[i] = cluster\n",
        "\n",
        "  # Step 3: Update centroid s\n",
        "\n",
        "  centroids_old = deepcopy(centroids)\n",
        "\n",
        "  for i in range(3):\n",
        "    points = [sepal_length_width[j] for j in range(len(sepal_length_width)) if labels[j] == i]\n",
        "    centroids[i] = np.mean(points, axis=0)\n",
        "    # error updating\n",
        "  error[0] = distance(centroids[0],centroids_old[0])\n",
        "  error[1] = distance(centroids[1],centroids_old[1])\n",
        "  error[2] = distance(centroids[2],centroids_old[2])\n",
        "\n",
        "  colors = ['r','g','b']\n",
        "\n",
        "  for i in range(k):\n",
        "    plt.scatter(points[:,0],points[:,1],c = colors[i],alpha=0.5)\n",
        "plt.scatter(centroids[:, 0], centroids[:, 1], marker='D', s=150)\n",
        "\n",
        "plt.xlabel('sepal length (cm)')\n",
        "plt.ylabel('sepal width (cm)')\n",
        "\n",
        "plt.show()\n"
      ],
      "execution_count": 27,
      "outputs": [
        {
          "output_type": "display_data",
          "data": {
            "image/png": "[encoded data removed]",
            "text/plain": [
              "<Figure size 432x288 with 1 Axes>"
            ]
          },
          "metadata": {
            "tags": [],
            "needs_background": "light"
          }
        }
      ]
    },
    {
      "cell_type": "code",
      "metadata": {
        "id": "PCrtAthMlFAS",
        "colab_type": "code",
        "colab": {}
      },
      "source": [
        ""
      ],
      "execution_count": 27,
      "outputs": []
    }
  ]
}